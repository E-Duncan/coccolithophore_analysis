{
 "cells": [
  {
   "cell_type": "markdown",
   "id": "f06cce9a",
   "metadata": {},
   "source": [
    "# Script to analyse models for province 2"
   ]
  },
  {
   "cell_type": "code",
   "execution_count": null,
   "id": "9c508510",
   "metadata": {
    "tags": []
   },
   "outputs": [],
   "source": [
    "import joblib\n",
    "import xarray as xr\n",
    "import pandas as pd"
   ]
  },
  {
   "cell_type": "markdown",
   "id": "068915b2",
   "metadata": {},
   "source": [
    "## Load model"
   ]
  },
  {
   "cell_type": "code",
   "execution_count": null,
   "id": "bd0d5135",
   "metadata": {
    "tags": []
   },
   "outputs": [],
   "source": [
    "filename = \"/home/jovyan/lustre_scratch/models/random_forest_2_otherhalf.joblib\""
   ]
  },
  {
   "cell_type": "code",
   "execution_count": null,
   "id": "136fb558",
   "metadata": {
    "tags": []
   },
   "outputs": [],
   "source": [
    "rf_2 = joblib.load(open(filename, \"rb\"))"
   ]
  },
  {
   "cell_type": "code",
   "execution_count": null,
   "id": "f8d74a37",
   "metadata": {
    "tags": []
   },
   "outputs": [],
   "source": [
    "filename = \"/home/jovyan/lustre_scratch/models/random_forest_2.joblib\""
   ]
  },
  {
   "cell_type": "code",
   "execution_count": null,
   "id": "9a1ca1bd",
   "metadata": {
    "tags": []
   },
   "outputs": [],
   "source": [
    "rf_1 = joblib.load(open(filename, \"rb\"))"
   ]
  },
  {
   "cell_type": "markdown",
   "id": "57a5ad6f",
   "metadata": {},
   "source": [
    "## Load .nc in xarray for province"
   ]
  },
  {
   "cell_type": "code",
   "execution_count": null,
   "id": "db0cf7ba",
   "metadata": {
    "tags": []
   },
   "outputs": [],
   "source": [
    "filename = '/home/jovyan/lustre_scratch/province_dataframes/full_province2'+'.nc'"
   ]
  },
  {
   "cell_type": "code",
   "execution_count": null,
   "id": "fdd81ebc",
   "metadata": {
    "tags": []
   },
   "outputs": [],
   "source": [
    "d = xr.load_dataset(filename)"
   ]
  },
  {
   "cell_type": "code",
   "execution_count": null,
   "id": "88cc73fa",
   "metadata": {
    "tags": []
   },
   "outputs": [],
   "source": [
    "d_1 = d.sel(longitude=slice(-25,10))\n",
    "d_2 = d.sel(longitude=slice(10,50))"
   ]
  },
  {
   "cell_type": "markdown",
   "id": "ab7f6e88",
   "metadata": {},
   "source": [
    "## Split to test data"
   ]
  },
  {
   "cell_type": "code",
   "execution_count": null,
   "id": "ffeb90f1",
   "metadata": {
    "tags": []
   },
   "outputs": [],
   "source": [
    "#slices\n",
    "slice_1 = slice('1998-01-01','2000-12-01')\n",
    "slice_2 = slice('2001-01-01','2004-12-01')\n",
    "slice_3 = slice('2005-01-01','2008-12-01')\n",
    "slice_4 = slice('2009-01-01','2012-12-01')\n",
    "slice_5 = slice('2013-01-01','2016-12-01')"
   ]
  },
  {
   "cell_type": "code",
   "execution_count": null,
   "id": "ab2533da",
   "metadata": {
    "tags": []
   },
   "outputs": [],
   "source": [
    "#fold 3 \n",
    "test_1 = d_1.sel(time=slice_3)\n",
    "test_2 = d_2.sel(time=slice_3)"
   ]
  },
  {
   "cell_type": "code",
   "execution_count": null,
   "id": "87bf8c69",
   "metadata": {
    "tags": []
   },
   "outputs": [],
   "source": [
    "stacked = d_1.stack(coord=['longitude', 'latitude']).to_dataframe()\n",
    "stacked.drop(columns=['spatial_ref','longitude', 'latitude'],inplace=True)\n",
    "stacked.dropna(inplace=True)\n",
    "stacked.reset_index(drop=True,inplace=True)\n",
    "std_1 = stacked.rrs.std()"
   ]
  },
  {
   "cell_type": "code",
   "execution_count": null,
   "id": "35e624db",
   "metadata": {
    "tags": []
   },
   "outputs": [],
   "source": [
    "stacked = d_2.stack(coord=['longitude', 'latitude']).to_dataframe()\n",
    "stacked.drop(columns=['spatial_ref','longitude', 'latitude'],inplace=True)\n",
    "stacked.dropna(inplace=True)\n",
    "stacked.reset_index(drop=True,inplace=True)\n",
    "std_2 = stacked.rrs.std()"
   ]
  },
  {
   "cell_type": "markdown",
   "id": "8b3b2383",
   "metadata": {},
   "source": [
    "## Prep data"
   ]
  },
  {
   "cell_type": "code",
   "execution_count": null,
   "id": "f8d276ec",
   "metadata": {
    "tags": []
   },
   "outputs": [],
   "source": [
    "stacked_test = test_1.stack(coord=['longitude', 'latitude']).to_dataframe()\n",
    "stacked_test.drop(columns=['spatial_ref','longitude', 'latitude'],inplace=True)\n",
    "stacked_test.dropna(inplace=True)\n",
    "stacked_test.reset_index(drop=True,inplace=True)\n",
    "\n",
    "stacked_test['rrs'].where(stacked_test['rrs']<std_1, other=1, inplace=True)\n",
    "rrs_ones = (stacked_test['rrs'] == 1).sum()\n",
    "rrs_zeros = (stacked_test['rrs'] == 0).sum()\n",
    "\n",
    "non_zero = stacked_test.loc[stacked_test['rrs'] == 1.]\n",
    "non_zero = non_zero[stacked_test.columns]\n",
    "\n",
    "zero = stacked_test.loc[stacked_test['rrs'] == 0.]\n",
    "zero = zero[stacked_test.columns]\n",
    "zero_samp = zero.sample(rrs_ones)\n",
    "\n",
    "full_test_1 = pd.concat([zero_samp,non_zero])\n",
    "X_test_1 = full_test_1.drop(columns='rrs')\n",
    "y_test_1 = full_test_1['rrs']"
   ]
  },
  {
   "cell_type": "code",
   "execution_count": null,
   "id": "a218e775",
   "metadata": {
    "tags": []
   },
   "outputs": [],
   "source": [
    "test_accuracy = rf_1.score(X_test_1, y_test_1)"
   ]
  },
  {
   "cell_type": "code",
   "execution_count": null,
   "id": "c995bacb",
   "metadata": {
    "tags": []
   },
   "outputs": [],
   "source": [
    "print('test_accuracy model 1:' ,test_accuracy)"
   ]
  },
  {
   "cell_type": "code",
   "execution_count": null,
   "id": "0c883444",
   "metadata": {
    "tags": []
   },
   "outputs": [],
   "source": [
    "stacked_test = test_2.stack(coord=['longitude', 'latitude']).to_dataframe()\n",
    "stacked_test.drop(columns=['spatial_ref','longitude', 'latitude'],inplace=True)\n",
    "stacked_test.dropna(inplace=True)\n",
    "stacked_test.reset_index(drop=True,inplace=True)\n",
    "\n",
    "stacked_test['rrs'].where(stacked_test['rrs']<std_2, other=1, inplace=True)\n",
    "rrs_ones = (stacked_test['rrs'] == 1).sum()\n",
    "rrs_zeros = (stacked_test['rrs'] == 0).sum()\n",
    "\n",
    "non_zero = stacked_test.loc[stacked_test['rrs'] == 1.]\n",
    "non_zero = non_zero[stacked_test.columns]\n",
    "\n",
    "zero = stacked_test.loc[stacked_test['rrs'] == 0.]\n",
    "zero = zero[stacked_test.columns]\n",
    "zero_samp = zero.sample(rrs_ones)\n",
    "\n",
    "full_test_2 = pd.concat([zero_samp,non_zero])\n",
    "X_test_2 = full_test_2.drop(columns='rrs')\n",
    "y_test_2 = full_test_2['rrs']"
   ]
  },
  {
   "cell_type": "code",
   "execution_count": null,
   "id": "d7941e3e",
   "metadata": {
    "tags": []
   },
   "outputs": [],
   "source": [
    "print('test_accuracy model 1:' ,test_accuracy)"
   ]
  },
  {
   "cell_type": "markdown",
   "id": "bba8865b",
   "metadata": {},
   "source": [
    "## SHAP"
   ]
  },
  {
   "cell_type": "code",
   "execution_count": null,
   "id": "fc63a6b8",
   "metadata": {
    "tags": []
   },
   "outputs": [],
   "source": [
    "import shap"
   ]
  },
  {
   "cell_type": "code",
   "execution_count": null,
   "id": "14c8283d",
   "metadata": {
    "tags": []
   },
   "outputs": [],
   "source": [
    "sh_1 = shap.TreeExplainer(rf_1)"
   ]
  },
  {
   "cell_type": "code",
   "execution_count": null,
   "id": "b85b90b4",
   "metadata": {
    "tags": []
   },
   "outputs": [],
   "source": [
    "sample_1 = X_test_1.sample(2000)"
   ]
  },
  {
   "cell_type": "code",
   "execution_count": null,
   "id": "0d8a713b",
   "metadata": {
    "tags": []
   },
   "outputs": [],
   "source": [
    "sample_1"
   ]
  },
  {
   "cell_type": "code",
   "execution_count": null,
   "id": "4f03ebda",
   "metadata": {
    "tags": []
   },
   "outputs": [],
   "source": [
    "sh_val_1 = sh_1.shap_values(sample_1)"
   ]
  },
  {
   "cell_type": "code",
   "execution_count": null,
   "id": "570f403f",
   "metadata": {
    "tags": []
   },
   "outputs": [],
   "source": [
    "import numpy as np"
   ]
  },
  {
   "cell_type": "code",
   "execution_count": null,
   "id": "33562a2c",
   "metadata": {
    "tags": []
   },
   "outputs": [],
   "source": [
    "global_values = [np.mean(i) for i in np.rollaxis(abs(sh_val_1[1]), 1)]"
   ]
  },
  {
   "cell_type": "code",
   "execution_count": null,
   "id": "93b2e8b1",
   "metadata": {
    "tags": []
   },
   "outputs": [],
   "source": [
    "global_values"
   ]
  },
  {
   "cell_type": "code",
   "execution_count": null,
   "id": "17eef59f",
   "metadata": {
    "tags": []
   },
   "outputs": [],
   "source": [
    "import matplotlib.pyplot as plt"
   ]
  },
  {
   "cell_type": "code",
   "execution_count": null,
   "id": "697d1b72",
   "metadata": {
    "tags": []
   },
   "outputs": [],
   "source": [
    "from matplotlib.colors import LinearSegmentedColormap\n",
    "colors = [(0, 24/255, 95/255),(0, 154/255, 162/255),(126/255, 201/255, 201/255),(173/255, 255/255, 251/255)]#,'#C5FFFC']\n",
    "cmap = LinearSegmentedColormap.from_list('coccolithphores', colors, N=100)"
   ]
  },
  {
   "cell_type": "code",
   "execution_count": null,
   "id": "3e0c593d",
   "metadata": {
    "tags": []
   },
   "outputs": [],
   "source": [
    "\n",
    "shap.summary_plot(sh_val_1[1],sample_1,plot_type='dot',cmap=cmap,show=False) #show=False)\n",
    "ax = plt.gca()\n",
    "ax.set_xlim(-0.5, 0.5) \n",
    "plt.title('Province 2a')\n",
    "plt.savefig('/home/jovyan/lustre_scratch/Figures/model_shap_analysis_final_tree_redo/province_2a.png')\n",
    "plt.show()"
   ]
  },
  {
   "cell_type": "code",
   "execution_count": null,
   "id": "14df4a66",
   "metadata": {},
   "outputs": [],
   "source": []
  },
  {
   "cell_type": "code",
   "execution_count": null,
   "id": "18fbaf62",
   "metadata": {
    "tags": []
   },
   "outputs": [],
   "source": [
    "sh_2 = shap.TreeExplainer(rf_2)"
   ]
  },
  {
   "cell_type": "code",
   "execution_count": null,
   "id": "cfab1030",
   "metadata": {
    "tags": []
   },
   "outputs": [],
   "source": [
    "sample_2 = X_test_2.sample(2000)"
   ]
  },
  {
   "cell_type": "code",
   "execution_count": null,
   "id": "c115b806",
   "metadata": {
    "tags": []
   },
   "outputs": [],
   "source": [
    "sample_2"
   ]
  },
  {
   "cell_type": "code",
   "execution_count": null,
   "id": "31d533aa",
   "metadata": {
    "tags": []
   },
   "outputs": [],
   "source": [
    "sh_val_2 = sh_2.shap_values(sample_2)"
   ]
  },
  {
   "cell_type": "code",
   "execution_count": null,
   "id": "91d4e296",
   "metadata": {
    "tags": []
   },
   "outputs": [],
   "source": [
    "global_values = [np.mean(i) for i in np.rollaxis(abs(sh_val_2[1]), 1)]"
   ]
  },
  {
   "cell_type": "code",
   "execution_count": null,
   "id": "9cf14db9",
   "metadata": {
    "tags": []
   },
   "outputs": [],
   "source": [
    "global_values"
   ]
  },
  {
   "cell_type": "code",
   "execution_count": null,
   "id": "ac699ade",
   "metadata": {
    "tags": []
   },
   "outputs": [],
   "source": [
    "shap.summary_plot(sh_val_2[1],sample_2,plot_type='dot',cmap=cmap,show=False) #show=False)\n",
    "ax = plt.gca()\n",
    "ax.set_xlim(-0.5, 0.5) \n",
    "plt.title('Province 2b')\n",
    "plt.savefig('/home/jovyan/lustre_scratch/Figures/model_shap_analysis_final_tree_redo/province_2b.png')\n",
    "plt.show()"
   ]
  },
  {
   "cell_type": "code",
   "execution_count": null,
   "id": "bdcf0efd",
   "metadata": {},
   "outputs": [],
   "source": []
  },
  {
   "cell_type": "code",
   "execution_count": null,
   "id": "8cfdca60",
   "metadata": {},
   "outputs": [],
   "source": []
  }
 ],
 "metadata": {
  "kernelspec": {
   "display_name": "Python (Rapids Env)",
   "language": "python",
   "name": "new-conda-env-rapids"
  },
  "language_info": {
   "codemirror_mode": {
    "name": "ipython",
    "version": 3
   },
   "file_extension": ".py",
   "mimetype": "text/x-python",
   "name": "python",
   "nbconvert_exporter": "python",
   "pygments_lexer": "ipython3",
   "version": "3.9.15"
  }
 },
 "nbformat": 4,
 "nbformat_minor": 5
}
