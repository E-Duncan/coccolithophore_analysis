{
 "cells": [
  {
   "cell_type": "code",
   "execution_count": 138,
   "id": "9b2847a9",
   "metadata": {
    "tags": []
   },
   "outputs": [],
   "source": [
    "import numpy as np\n",
    "import netCDF4 as nc\n",
    "import xarray as xr\n",
    "import matplotlib.pyplot as plt\n",
    "import matplotlib.colors as colors\n",
    "import cartopy.crs as ccrs\n",
    "import scipy\n",
    "import seaborn as sn\n",
    "import pandas as pd\n",
    "import ipywidgets\n",
    "from datetime import datetime, timedelta\n",
    "import glob\n",
    "from sklearn.linear_model import LinearRegression\n",
    "import pymannkendall as mk"
   ]
  },
  {
   "cell_type": "code",
   "execution_count": 139,
   "id": "5d995f2c-a7a9-45d7-8ab9-a2fb60fcafce",
   "metadata": {
    "tags": []
   },
   "outputs": [],
   "source": [
    "def moving_average(timeseries, step):\n",
    "    return np.convolve(timeseries, np.ones(step), 'valid') / step -0.5"
   ]
  },
  {
   "cell_type": "code",
   "execution_count": 182,
   "id": "dc087445-7676-45fb-aad1-bdc2baaa91a3",
   "metadata": {},
   "outputs": [],
   "source": [
    "def pd_average(df,step):\n",
    "    avg = df.resample('{}Y'.format(step),axis=0,group_keys=True,closed='left',label='right').mean() \n",
    "    return avg"
   ]
  },
  {
   "cell_type": "code",
   "execution_count": 141,
   "id": "3b363ad9-692b-4c4e-accd-66226e289710",
   "metadata": {
    "tags": []
   },
   "outputs": [],
   "source": [
    "def stats_of_timeseries(dates,timeseries_data):\n",
    "    reg = LinearRegression().fit(dates, timeseries_data)\n",
    "    mk_t = mk.original_test(timeseries_data)\n",
    "    return reg, mk_t"
   ]
  },
  {
   "cell_type": "code",
   "execution_count": 142,
   "id": "69b7f49e",
   "metadata": {
    "tags": []
   },
   "outputs": [],
   "source": [
    "import gc"
   ]
  },
  {
   "cell_type": "code",
   "execution_count": 143,
   "id": "2e26b661",
   "metadata": {
    "tags": []
   },
   "outputs": [],
   "source": [
    "gc.enable()"
   ]
  },
  {
   "cell_type": "markdown",
   "id": "b6b66e4c-b613-453a-8452-7074f29bb0d0",
   "metadata": {},
   "source": [
    "# Load data"
   ]
  },
  {
   "cell_type": "code",
   "execution_count": 144,
   "id": "fa928839",
   "metadata": {
    "tags": []
   },
   "outputs": [],
   "source": [
    "ROOT = \"/data/datasets/Projects/TuringCoccolithophoreBlooms\""
   ]
  },
  {
   "cell_type": "code",
   "execution_count": 145,
   "id": "b96226c5",
   "metadata": {
    "tags": []
   },
   "outputs": [
    {
     "name": "stdout",
     "output_type": "stream",
     "text": [
      "<xarray.Dataset>\n",
      "Dimensions:                              (longitude: 3600, latitude: 1800,\n",
      "                                          time: 424)\n",
      "Coordinates:\n",
      "  * longitude                            (longitude) float64 -179.9 ... 179.9\n",
      "  * latitude                             (latitude) float64 -89.95 ... 89.95\n",
      "  * time                                 (time) datetime64[ns] 1981-09-30 ......\n",
      "Data variables:\n",
      "    filtered_remote_sensing_reflectance  (time, latitude, longitude) float64 ...\n"
     ]
    }
   ],
   "source": [
    "filtered_filepath = ROOT+\"/AVHRR_reflectance/MASKED_AVHRR/rrs_masked_by_sea_ice.nc\"\n",
    "varname = \"filtered_remote_sensing_reflectance\"\n",
    "\n",
    "ds = xr.open_dataset(filtered_filepath)\n",
    "print(ds)\n",
    "rrs = ds[varname]"
   ]
  },
  {
   "cell_type": "markdown",
   "id": "65e57f6b-9725-4ec1-aa3d-f1b88b7c2ad3",
   "metadata": {},
   "source": [
    "# Calculate lat lon grid"
   ]
  },
  {
   "cell_type": "code",
   "execution_count": 146,
   "id": "5a87a64f-6de9-415d-9595-e239b472db0f",
   "metadata": {
    "tags": []
   },
   "outputs": [],
   "source": [
    "#Get edges of grid cells (assuming consistent lat, lon grid)\n",
    "lon = np.array(ds['longitude'])-0.05\n",
    "lat = np.array(ds['latitude'])-0.025\n",
    "\n",
    "#Get end of grid\n",
    "lon = np.append(lon,ds['longitude'][-1])\n",
    "lat = np.append(lat,ds['latitude'][-1])\n",
    "\n",
    "#make into grid\n",
    "x,y = np.meshgrid(lon,lat)"
   ]
  },
  {
   "cell_type": "markdown",
   "id": "ddbdfd0e-aaa2-4e32-96de-d3a340e3d493",
   "metadata": {},
   "source": [
    "# Calculate area of grid cells"
   ]
  },
  {
   "cell_type": "code",
   "execution_count": 147,
   "id": "b26f8eb6-2faa-4443-8adf-eeaff2d314e7",
   "metadata": {
    "tags": []
   },
   "outputs": [],
   "source": [
    "# Radius of Earth\n",
    "R = 6371*1000\n",
    "\n",
    "#Empty area for area\n",
    "A = np.zeros((len(lon)-1,len(lat)-1))\n",
    "\n",
    "#Cut grids\n",
    "x_shift1 = x[1:,1:]\n",
    "y_shift1 = y[1:,1:]\n",
    "\n",
    "#Calculate area\n",
    "A = np.pi/180 * R**2 * (np.sin(y[:-1,:-1]*np.pi/180)-np.sin(y_shift1*np.pi/180))*(x[:-1,:-1]-x_shift1)"
   ]
  },
  {
   "cell_type": "code",
   "execution_count": 148,
   "id": "b387a2fd-5e70-41ba-91fe-ca7d09a10707",
   "metadata": {},
   "outputs": [],
   "source": [
    "#Standard deviation\n",
    "std = np.nanstd(rrs)\n",
    "rrs_time = pd.to_datetime(rrs.time.values)"
   ]
  },
  {
   "cell_type": "code",
   "execution_count": 230,
   "id": "12a12bc7-986d-4126-825c-89ba0ace0bc4",
   "metadata": {
    "tags": []
   },
   "outputs": [],
   "source": [
    "#Calculate the area for each month covered by those areas classed as bloom (> 1 standard deviation)\n",
    "\n",
    "m_areas = np.zeros(len(rrs_time))\n",
    "for i in range(0,len(rrs_time)):\n",
    "    #Find area with rrs higher than standard deviation\n",
    "    m_areas[i] = np.nansum(A[rrs[i,:,:]>std])"
   ]
  },
  {
   "cell_type": "code",
   "execution_count": 151,
   "id": "1be49cdc-a67b-49f7-a135-5426061a72da",
   "metadata": {
    "tags": []
   },
   "outputs": [],
   "source": [
    "#array for number of months considered in timeseries\n",
    "months = np.arange(0,len(rrs_time))"
   ]
  },
  {
   "cell_type": "code",
   "execution_count": 152,
   "id": "444ec235-baae-458b-9629-09209d61b806",
   "metadata": {
    "tags": []
   },
   "outputs": [],
   "source": [
    "pd_area = pd.DataFrame(m_areas,index=rrs_time)"
   ]
  },
  {
   "cell_type": "code",
   "execution_count": 241,
   "id": "2e56b4fa-5e38-4a6b-a387-2d6cd6900cc1",
   "metadata": {
    "tags": []
   },
   "outputs": [
    {
     "name": "stdout",
     "output_type": "stream",
     "text": [
      "Mann_Kendall_Test(trend='decreasing', h=True, p=8.259515825814745e-05, z=-3.936742480521045, Tau=-0.12799411213702663, s=-11478.0, var_s=8499292.0, slope=-734.720798535706, intercept=519828.4884691961)\n",
      "Slope =  -2400.976359732011\n",
      "Change in area =  [2177788.20998631]\n"
     ]
    },
    {
     "data": {
      "image/png": "[encoded data removed]",
      "text/plain": [
       "<Figure size 640x480 with 1 Axes>"
      ]
     },
     "metadata": {},
     "output_type": "display_data"
    }
   ],
   "source": [
    "plt.plot(rrs_time,m_areas/(1000*1000),color='darkgray',label='Monthly (data resolution)')\n",
    "reg, mk_t = stats_of_timeseries(months.reshape(-1, 1),m_areas/(1000*1000))\n",
    "print(mk_t)\n",
    "plt.plot(rrs_time,reg.intercept_+reg.coef_[0]*months,'k',label='Linear regression')\n",
    "print('Slope = ',reg.coef_[0])\n",
    "\n",
    "#Averaging steps (years)\n",
    "steps=[1]\n",
    "\n",
    "for i,step in enumerate(steps):\n",
    "    avg = pd_average(pd_area,step)\n",
    "\n",
    "    if step==1:\n",
    "        plt.plot(avg.index,avg.values/(1000*1000),color=(0, 154/255, 162/255),label='Yearly average')\n",
    "        print('Change in area = ',(avg.values[0]-avg.values[-1])/(1000*1000))\n",
    "\n",
    "    else:\n",
    "        plt.plot(avg.index,avg.values/(1000*1000),'--',label='Steps = {}'.format(step))\n",
    "        plt.legend()\n",
    "        \n",
    "plt.legend(loc='upper right')\n",
    "plt.xlabel('Year')\n",
    "plt.ylabel('Area (km$^{-2}$)')\n",
    "plt.savefig('month_area_timeseries.png')"
   ]
  },
  {
   "cell_type": "markdown",
   "id": "365aed3c-7553-4ad4-93be-a7d94666facf",
   "metadata": {},
   "source": [
    "# Decadal boxplots"
   ]
  },
  {
   "cell_type": "code",
   "execution_count": 232,
   "id": "76649c20",
   "metadata": {
    "tags": []
   },
   "outputs": [],
   "source": [
    "#slices\n",
    "slice_1 = slice('1981-01-01','1989-12-01')\n",
    "slice_2 = slice('1990-01-01','1999-12-01')\n",
    "slice_3 = slice('2000-01-01','2009-12-01')\n",
    "slice_4 = slice('2010-01-01','2016-12-01')\n",
    "slices=[slice_1,slice_2,slice_3,slice_4]"
   ]
  },
  {
   "cell_type": "code",
   "execution_count": 45,
   "id": "a9925361",
   "metadata": {
    "tags": []
   },
   "outputs": [],
   "source": [
    "decade_1 = rrs.sel(time=slice_1)\n",
    "decade_2 = rrs.sel(time=slice_2)\n",
    "decade_3 = rrs.sel(time=slice_3)\n",
    "decade_4 = rrs.sel(time=slice_4)"
   ]
  },
  {
   "cell_type": "code",
   "execution_count": null,
   "id": "d68d7507-5843-460b-b316-5c4272f55abd",
   "metadata": {
    "tags": []
   },
   "outputs": [],
   "source": [
    "d1_mean = np.array(decade_1.mean(dim=['latitude','longitude'],skipna=True)).flatten()\n",
    "d2_mean = np.array(decade_2.mean(dim=['latitude','longitude'],skipna=True)).flatten()\n",
    "d3_mean = np.array(decade_3.mean(dim=['latitude','longitude'],skipna=True)).flatten()\n",
    "d4_mean = np.array(decade_4.mean(dim=['latitude','longitude'],skipna=True)).flatten()"
   ]
  },
  {
   "cell_type": "code",
   "execution_count": 55,
   "id": "05d94971",
   "metadata": {
    "tags": []
   },
   "outputs": [],
   "source": [
    "d_means = [d1_mean[~np.isnan(d1_mean)],d2_mean[~np.isnan(d2_mean)],d3_mean[~np.isnan(d3_mean)],d4_mean[~np.isnan(d4_mean)]]"
   ]
  },
  {
   "cell_type": "code",
   "execution_count": 66,
   "id": "8cdfaa3d-764b-41be-9245-d14e470ec5a1",
   "metadata": {
    "tags": []
   },
   "outputs": [
    {
     "data": {
      "image/png": "[encoded data removed]",
      "text/plain": [
       "<Figure size 600x400 with 1 Axes>"
      ]
     },
     "metadata": {},
     "output_type": "display_data"
    }
   ],
   "source": [
    "# Define the figure and each axis\n",
    "fig = plt.figure(figsize =(6, 4))\n",
    " \n",
    "# Creating axes instance\n",
    "ax = fig.add_axes([0, 0, 1, 1])\n",
    " \n",
    "# Creating plot\n",
    "bp = ax.boxplot(d_means)\n",
    "\n",
    "#Format plot\n",
    "ax.set_xlabel('Decade')\n",
    "ax.set_ylabel('Rrs [sr$^{-1}$]')\n",
    "ax.set_xticks([1,2,3,4],['1981-1989','1990-1999','2000-2009','2010-2017'])\n",
    "\n",
    "plt.savefig('Decadal_boxplots.png',bbox_inches='tight', dpi=350) "
   ]
  },
  {
   "cell_type": "markdown",
   "id": "bcb12dae-3564-4649-84af-f037ec5f0020",
   "metadata": {},
   "source": [
    "# Decadal map of number of pixels defined as bloom"
   ]
  },
  {
   "cell_type": "code",
   "execution_count": 234,
   "id": "26e65d27",
   "metadata": {
    "tags": []
   },
   "outputs": [],
   "source": [
    "import cartopy.crs as ccrs\n",
    "import cartopy.feature as cfeat\n",
    "from matplotlib import colors\n",
    "from matplotlib.colors import LinearSegmentedColormap"
   ]
  },
  {
   "cell_type": "code",
   "execution_count": 235,
   "id": "257baad3",
   "metadata": {
    "tags": []
   },
   "outputs": [],
   "source": [
    "colors = [(0, 24/255, 95/255),(0, 154/255, 162/255),(126/255, 201/255, 201/255),(173/255, 255/255, 251/255)]#,(1, 1, 1)]\n",
    "cmap = LinearSegmentedColormap.from_list('coccolithphores', colors, N=100)"
   ]
  },
  {
   "cell_type": "code",
   "execution_count": 236,
   "id": "e494f23c",
   "metadata": {
    "tags": []
   },
   "outputs": [],
   "source": [
    "from matplotlib import colors"
   ]
  },
  {
   "cell_type": "code",
   "execution_count": 237,
   "id": "c387c05c",
   "metadata": {
    "tags": []
   },
   "outputs": [],
   "source": [
    "d1_mean = decade_1.mean(dim='time',skipna=True)\n",
    "d2_mean = decade_2.mean(dim='time',skipna=True)\n",
    "d3_mean = decade_3.mean(dim='time',skipna=True)\n",
    "d4_mean = decade_4.mean(dim='time',skipna=True)\n",
    "all_mean = rrs.mean(dim='time',skipna=True)"
   ]
  },
  {
   "cell_type": "code",
   "execution_count": 238,
   "id": "f227ec44-e287-4f0b-a539-2adcb7992d54",
   "metadata": {
    "tags": []
   },
   "outputs": [],
   "source": [
    "d_means = [d1_mean,d2_mean,d3_mean,d4_mean]"
   ]
  },
  {
   "cell_type": "code",
   "execution_count": 239,
   "id": "273ab22e",
   "metadata": {
    "tags": []
   },
   "outputs": [
    {
     "data": {
      "text/plain": [
       "17856"
      ]
     },
     "execution_count": 239,
     "metadata": {},
     "output_type": "execute_result"
    }
   ],
   "source": [
    "gc.collect()"
   ]
  },
  {
   "cell_type": "code",
   "execution_count": null,
   "id": "edcc74ec",
   "metadata": {
    "tags": []
   },
   "outputs": [],
   "source": [
    "# Define the figure and each axis\n",
    "fig, axs = plt.subplots(nrows=2,ncols=2,\n",
    "                        subplot_kw={'projection': ccrs.PlateCarree()},\n",
    "                        figsize=(11,8.5))\n",
    "axs=axs.flatten()\n",
    "\n",
    "for i,d_mean in enumerate(d_means):\n",
    "\n",
    "    im=axs[i].pcolor(d_mean.longitude,d_mean.latitude,d_mean.values,\n",
    "                          transform = ccrs.PlateCarree(),\n",
    "                          cmap=cmap,norm=colors.LogNorm(vmin=1e-6, vmax=1e-2))\n",
    "    axs[i].coastlines()\n",
    "    cmap.set_bad((0, 24/255, 95/255))\n",
    "    gl = axs[i].gridlines(crs=ccrs.PlateCarree(), draw_labels=True,linewidth=0.33, color='k',alpha=0)\n",
    "    gl.xlabels_bottom = False\n",
    "    gl.ylabels_right = False\n",
    "    axs[i].add_feature(cfeat.LAND,color='lightgray')\n",
    "    axs[i].add_feature(cfeat.COASTLINE)\n",
    "\n",
    "    \n",
    "cbar = plt.colorbar(im,ax=axs.ravel().tolist(),location=\"bottom\")\n",
    "cbar.set_label('Rrs [sr$^{-1}$]')\n",
    "\n",
    "plt.savefig('Decadal_trends.png')"
   ]
  },
  {
   "cell_type": "code",
   "execution_count": null,
   "id": "caf6bfd2-3718-48f9-be49-b99c2b3c92bb",
   "metadata": {},
   "outputs": [],
   "source": []
  }
 ],
 "metadata": {
  "kernelspec": {
   "display_name": "Python (Test Env)",
   "language": "python",
   "name": "new-conda-env"
  },
  "language_info": {
   "codemirror_mode": {
    "name": "ipython",
    "version": 3
   },
   "file_extension": ".py",
   "mimetype": "text/x-python",
   "name": "python",
   "nbconvert_exporter": "python",
   "pygments_lexer": "ipython3",
   "version": "3.9.15"
  }
 },
 "nbformat": 4,
 "nbformat_minor": 5
}
