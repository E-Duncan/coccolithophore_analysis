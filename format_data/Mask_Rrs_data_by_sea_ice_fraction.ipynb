{
 "cells": [
  {
   "cell_type": "markdown",
   "id": "0838d32d",
   "metadata": {},
   "source": [
    "# Mask the Rrs data using sea ice fraction"
   ]
  },
  {
   "cell_type": "code",
   "execution_count": null,
   "id": "1bc04fb9",
   "metadata": {
    "tags": []
   },
   "outputs": [],
   "source": [
    "import numpy as np\n",
    "import netCDF4 as nc\n",
    "import xarray as xr\n",
    "import matplotlib.pyplot as plt\n",
    "import matplotlib.colors as colors\n",
    "import cartopy.crs as ccrs\n",
    "import scipy\n"
   ]
  },
  {
   "cell_type": "code",
   "execution_count": null,
   "id": "228363a4",
   "metadata": {
    "tags": []
   },
   "outputs": [],
   "source": [
    "def load_data(filepath):\n",
    "    ds=xr.open_mfdataset(filepath,mask_and_scale=True)\n",
    "    return ds"
   ]
  },
  {
   "cell_type": "markdown",
   "id": "1577a55c",
   "metadata": {},
   "source": [
    "## Load Rrs and sea ice"
   ]
  },
  {
   "cell_type": "code",
   "execution_count": null,
   "id": "97108bbf",
   "metadata": {
    "tags": []
   },
   "outputs": [],
   "source": [
    "#AVHRR data first\n",
    "\n",
    "ROOT = \"/data/datasets/Projects/TuringCoccolithophoreBlooms\"\n",
    "\n",
    "filepath = ROOT+\"/AVHRR_reflectance/monthly_mean/*.nc\"\n",
    "varname = \"filtered_remote_sensing_reflectance\"\n",
    "#filepath = ROOT+\"/no_backup/TuringCoccolithophoreBlooms/regridded_data/Rrs_560/*.nc\"\n",
    "#varname = \"Rrs_560\"\n",
    "\n",
    "ds = load_data(filepath)\n",
    "print(ds)\n",
    "rrs = ds[varname]\n",
    "\n",
    "#ensure no data written as nan\n",
    "rrs.rio.write_nodata(np.nan, inplace=True)\n",
    "print(f\"nodata: {rrs.rio.nodata}\")"
   ]
  },
  {
   "cell_type": "code",
   "execution_count": null,
   "id": "1ee32c38",
   "metadata": {
    "tags": []
   },
   "outputs": [],
   "source": [
    "#Comparative meteorlogical data\n",
    "\n",
    "filepath = ROOT+\"/no_backup/TuringCoccolithophoreBlooms/regridded_data/analysed_sst/*.nc\"\n",
    "varname = \"sea_ice_fraction\"\n",
    "\n",
    "ds = load_data(filepath)\n",
    "print(ds)\n",
    "variable = ds[varname]\n",
    "\n",
    "#ensure no data written as nan\n",
    "variable.rio.write_nodata(np.nan, inplace=True)\n",
    "print(f\"nodata: {variable.rio.nodata}\")"
   ]
  },
  {
   "cell_type": "markdown",
   "id": "7844e0ea-83d5-4966-bee7-a814e77cec86",
   "metadata": {},
   "source": [
    "# Mask the Rrs data by the sea ice "
   ]
  },
  {
   "cell_type": "code",
   "execution_count": null,
   "id": "42c5af13",
   "metadata": {
    "tags": []
   },
   "outputs": [],
   "source": [
    "#Resample so date names are consistent\n",
    "\n",
    "da = rrs.resample(time='1m').sum(skipna=False)\n",
    "ds = variable.resample(time='1m').sum(skipna=False)\n",
    "\n",
    "time = np.array(da.time)"
   ]
  },
  {
   "cell_type": "code",
   "execution_count": null,
   "id": "26577b9d",
   "metadata": {
    "tags": []
   },
   "outputs": [],
   "source": [
    "masked = da.where((ds < 0.15), drop=False) #Keep where sea ice fraction is less than 0.15, else mask as NaN"
   ]
  },
  {
   "cell_type": "code",
   "execution_count": null,
   "id": "ca361a5d-8de8-4169-8441-f83ce9234920",
   "metadata": {
    "tags": []
   },
   "outputs": [],
   "source": [
    "#Set NaNs in Rrs to 0 and data to 1\n",
    "relf = da.fillna(-999)\n",
    "relf = relf.where(relf == -999, other=1)\n",
    "relf = relf.where(relf != -999, other=0)"
   ]
  },
  {
   "cell_type": "code",
   "execution_count": null,
   "id": "13109e1c-d016-47b7-8dd6-cb533796a50d",
   "metadata": {
    "tags": []
   },
   "outputs": [],
   "source": [
    "#Set NaNs in masked data to 0 and data to 1\n",
    "filt = masked.fillna(-999)\n",
    "filt = filt.where(filt == -999, other=1)\n",
    "filt = filt.where(filt != -999, other=0)"
   ]
  },
  {
   "cell_type": "code",
   "execution_count": null,
   "id": "fce602e6-ba78-47a2-84e3-cfc57025b692",
   "metadata": {
    "tags": []
   },
   "outputs": [],
   "source": [
    "#Find the difference to find where the pixels are now masked\n",
    "diff = relf - filt"
   ]
  },
  {
   "cell_type": "code",
   "execution_count": null,
   "id": "4fc8777d-290a-4965-9fd9-c9e6b6d75050",
   "metadata": {
    "tags": []
   },
   "outputs": [],
   "source": [
    "diff = diff.where(diff != 0, other=np.nan)"
   ]
  },
  {
   "cell_type": "code",
   "execution_count": null,
   "id": "3b4e4b52-d2f6-4258-880e-98275f2f76cc",
   "metadata": {
    "tags": []
   },
   "outputs": [],
   "source": [
    "diff[300,:,:].plot()"
   ]
  },
  {
   "cell_type": "markdown",
   "id": "f9ccf919-587c-4c70-a794-98cf0b949a33",
   "metadata": {
    "tags": []
   },
   "source": [
    "# Calculate lat lon grid"
   ]
  },
  {
   "cell_type": "code",
   "execution_count": null,
   "id": "d9ccf172-28f3-45cd-acdc-86ec6c142ef4",
   "metadata": {
    "tags": []
   },
   "outputs": [],
   "source": [
    "#Get edges of grid cells (assuming consistent lat, lon grid)\n",
    "lon = np.array(removed['longitude'])-0.05\n",
    "lat = np.array(removed['latitude'])-0.025\n",
    "\n",
    "#Get end of grid\n",
    "lon = np.append(lon,removed['longitude'][-1])\n",
    "lat = np.append(lat,removed['latitude'][-1])\n",
    "\n",
    "#make into grid\n",
    "x,y = np.meshgrid(lon,lat)"
   ]
  },
  {
   "cell_type": "markdown",
   "id": "37bddb0f-7499-4a56-be2b-268377e48b27",
   "metadata": {},
   "source": [
    "# Calculate area of grid cells"
   ]
  },
  {
   "cell_type": "code",
   "execution_count": null,
   "id": "1215d7d6-7e2e-46d8-a3cd-f69efacdee03",
   "metadata": {
    "tags": []
   },
   "outputs": [],
   "source": [
    "# Radius of Earth\n",
    "R = 6371*1000\n",
    "\n",
    "#Empty area for area\n",
    "A = np.zeros((len(lon)-1,len(lat)-1))\n",
    "\n",
    "#Cut grids\n",
    "x_shift1 = x[1:,1:]\n",
    "y_shift1 = y[1:,1:]\n",
    "\n",
    "#Calculate area\n",
    "A = np.pi/180 * R**2 * (np.sin(y[:-1,:-1]*np.pi/180)-np.sin(y_shift1*np.pi/180))*(x[:-1,:-1]-x_shift1)"
   ]
  },
  {
   "cell_type": "code",
   "execution_count": null,
   "id": "b5f27c49-fc11-408c-b9ef-616823662039",
   "metadata": {
    "tags": []
   },
   "outputs": [],
   "source": [
    "#slices\n",
    "slice_1 = slice('1981-01-01','1989-12-01')\n",
    "slice_2 = slice('1990-01-01','1999-12-01')\n",
    "slice_3 = slice('2000-01-01','2009-12-01')\n",
    "slice_4 = slice('2010-01-01','2016-12-01')\n",
    "slices=[slice_1,slice_2,slice_3,slice_4]"
   ]
  },
  {
   "cell_type": "code",
   "execution_count": null,
   "id": "01f97776-88d1-42f6-92c3-348409a5c23c",
   "metadata": {
    "tags": []
   },
   "outputs": [],
   "source": [
    "dec_area_min = np.zeros(4)\n",
    "dec_area_mean = np.zeros(4)\n",
    "dec_area_max = np.zeros(4)"
   ]
  },
  {
   "cell_type": "code",
   "execution_count": null,
   "id": "7ce30943-a49d-444a-b825-6443edb85788",
   "metadata": {
    "tags": []
   },
   "outputs": [],
   "source": [
    "#Calculate the area for each decade covered by those areas masked by sea ice\n",
    "for c,s in enumerate(slices):\n",
    "    dec_diff = diff.sel(time=s)\n",
    "    rrs_time = dec_diff.time\n",
    "    m_areas = np.zeros(len(rrs_time))\n",
    "    for i in range(0,len(rrs_time)):\n",
    "        #Find area of rrs removed by filter\n",
    "        m_areas[i] = np.nansum(A*dec_diff[i,:,:])#.isnull()==0])\n",
    "    \n",
    "    dec_area_min[c] = np.nanmin(m_areas)\n",
    "    dec_area_mean[c] = np.nanmean(m_areas)\n",
    "    dec_area_max[c] = np.nanmax(m_areas)"
   ]
  },
  {
   "cell_type": "code",
   "execution_count": null,
   "id": "89a20377-0335-43c8-a48f-323eafdc6977",
   "metadata": {
    "tags": []
   },
   "outputs": [],
   "source": [
    "dec_area_mean*1e-6"
   ]
  },
  {
   "cell_type": "code",
   "execution_count": null,
   "id": "e99542f5-60c8-4573-884e-3e9544888f29",
   "metadata": {
    "tags": []
   },
   "outputs": [],
   "source": [
    "max(dec_area_mean*1e-6)"
   ]
  },
  {
   "cell_type": "markdown",
   "id": "a2cc86b8-9af7-4a9b-9622-8eee590ae053",
   "metadata": {},
   "source": [
    "# Plot example"
   ]
  },
  {
   "cell_type": "code",
   "execution_count": null,
   "id": "b2d69a65",
   "metadata": {
    "tags": []
   },
   "outputs": [],
   "source": [
    "from matplotlib import colors\n",
    "\n",
    "# Define the figure and each axis\n",
    "fig, ax = plt.subplots(nrows=1,ncols=2,\n",
    "                        subplot_kw={'projection': ccrs.PlateCarree()},figsize=(11,8.5))\n",
    "\n",
    "index = np.datetime64('2008-12')\n",
    "print(index)\n",
    "\n",
    "ax[0].coastlines()\n",
    "pcm = ax[0].pcolormesh(rrs.longitude,rrs.latitude,da.sel(time=index,method='nearest'))\n",
    "\n",
    "cmap = plt.colorbar(pcm,shrink=0.3)\n",
    "ax[0].set_yticks([-50, 0, 50], crs=ccrs.PlateCarree())\n",
    "ax[0].set_xticks([-150, -100, -50, 0, 50, 100, 150], crs=ccrs.PlateCarree()) \n",
    "cmap.set_label('Rrs (sr$^{-1}$)')\n",
    "\n",
    "ax[1].coastlines()\n",
    "pcm = ax[1].pcolormesh(rrs.longitude,rrs.latitude,masked.sel(time=index,method='nearest'))\n",
    "cmap = plt.colorbar(pcm,shrink=0.3)\n",
    "ax[1].set_yticks([-50, 0, 50], crs=ccrs.PlateCarree())\n",
    "ax[1].set_xticks([-150, -100, -50, 0, 50, 100, 150], crs=ccrs.PlateCarree()) \n",
    "\n",
    "\n",
    "cmap.set_label('Ice fraction masked Rrs (sr$^{-1}$)')\n",
    "plt.show()"
   ]
  },
  {
   "cell_type": "code",
   "execution_count": null,
   "id": "db94f884",
   "metadata": {},
   "outputs": [],
   "source": [
    "fileout = ROOT + \"/data/rrs_masked_by_sea_ice.nc\"\n",
    "\n",
    "masked.to_netcdf(fileout)"
   ]
  },
  {
   "cell_type": "code",
   "execution_count": null,
   "id": "f38e4898",
   "metadata": {},
   "outputs": [],
   "source": []
  }
 ],
 "metadata": {
  "kernelspec": {
   "display_name": "Python (Rapids Env)",
   "language": "python",
   "name": "new-conda-env-rapids"
  },
  "language_info": {
   "codemirror_mode": {
    "name": "ipython",
    "version": 3
   },
   "file_extension": ".py",
   "mimetype": "text/x-python",
   "name": "python",
   "nbconvert_exporter": "python",
   "pygments_lexer": "ipython3",
   "version": "3.9.15"
  }
 },
 "nbformat": 4,
 "nbformat_minor": 5
}
